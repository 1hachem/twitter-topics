{
 "cells": [
  {
   "cell_type": "code",
   "execution_count": 283,
   "metadata": {},
   "outputs": [
    {
     "name": "stdout",
     "output_type": "stream",
     "text": [
      "The autoreload extension is already loaded. To reload it, use:\n",
      "  %reload_ext autoreload\n"
     ]
    }
   ],
   "source": [
    "%load_ext autoreload\n",
    "%autoreload 2"
   ]
  },
  {
   "cell_type": "code",
   "execution_count": 284,
   "metadata": {
    "tags": [
     "imports"
    ]
   },
   "outputs": [],
   "source": [
    "import pandas as pd\n",
    "import numpy as np\n",
    "import matplotlib.pyplot as plt\n",
    "import seaborn as sns\n",
    "\n",
    "import pickle\n",
    "\n",
    "from src.utils import load_pickle, save_pickle\n",
    "from src.model import get_embedding"
   ]
  },
  {
   "cell_type": "code",
   "execution_count": 285,
   "metadata": {},
   "outputs": [],
   "source": [
    "# PATHS\n",
    "RAW_DATA_PATH = '../data/raw/text_topics.pkl'\n",
    "PROCESSED_DATA_PATH = '../data/processed/embedded.pkl'"
   ]
  },
  {
   "attachments": {},
   "cell_type": "markdown",
   "metadata": {},
   "source": [
    "## EDA & Data preprocessing"
   ]
  },
  {
   "cell_type": "code",
   "execution_count": 286,
   "metadata": {},
   "outputs": [
    {
     "data": {
      "text/html": [
       "<div>\n",
       "<style scoped>\n",
       "    .dataframe tbody tr th:only-of-type {\n",
       "        vertical-align: middle;\n",
       "    }\n",
       "\n",
       "    .dataframe tbody tr th {\n",
       "        vertical-align: top;\n",
       "    }\n",
       "\n",
       "    .dataframe thead th {\n",
       "        text-align: right;\n",
       "    }\n",
       "</style>\n",
       "<table border=\"1\" class=\"dataframe\">\n",
       "  <thead>\n",
       "    <tr style=\"text-align: right;\">\n",
       "      <th></th>\n",
       "      <th>text</th>\n",
       "      <th>date</th>\n",
       "      <th>topics</th>\n",
       "      <th>id</th>\n",
       "    </tr>\n",
       "  </thead>\n",
       "  <tbody>\n",
       "    <tr>\n",
       "      <th>0</th>\n",
       "      <td>Barbara Bailey is the queen of broadcast news ...</td>\n",
       "      <td>2020-09-04</td>\n",
       "      <td>[film_tv_&amp;_video, news_&amp;_social_concern]</td>\n",
       "      <td>1301943102094139393</td>\n",
       "    </tr>\n",
       "    <tr>\n",
       "      <th>1</th>\n",
       "      <td>start the 20-21 school year off POSITIVE! let’...</td>\n",
       "      <td>2020-09-05</td>\n",
       "      <td>[diaries_&amp;_daily_life, youth_&amp;_student_life]</td>\n",
       "      <td>1302275052256342017</td>\n",
       "    </tr>\n",
       "    <tr>\n",
       "      <th>2</th>\n",
       "      <td>Worth watching at least the 1st 10mins if I wa...</td>\n",
       "      <td>2020-09-06</td>\n",
       "      <td>[film_tv_&amp;_video, news_&amp;_social_concern]</td>\n",
       "      <td>1302450647422259205</td>\n",
       "    </tr>\n",
       "    <tr>\n",
       "      <th>3</th>\n",
       "      <td>There s regular people and then there s {@Bail...</td>\n",
       "      <td>2020-09-06</td>\n",
       "      <td>[celebrity_&amp;_pop_culture]</td>\n",
       "      <td>1302452496011595776</td>\n",
       "    </tr>\n",
       "    <tr>\n",
       "      <th>4</th>\n",
       "      <td>Up with new grace, truly sorry on behalf of {@...</td>\n",
       "      <td>2020-09-06</td>\n",
       "      <td>[celebrity_&amp;_pop_culture, fitness_&amp;_health, ne...</td>\n",
       "      <td>1302479114469867520</td>\n",
       "    </tr>\n",
       "  </tbody>\n",
       "</table>\n",
       "</div>"
      ],
      "text/plain": [
       "                                                text        date  \\\n",
       "0  Barbara Bailey is the queen of broadcast news ...  2020-09-04   \n",
       "1  start the 20-21 school year off POSITIVE! let’...  2020-09-05   \n",
       "2  Worth watching at least the 1st 10mins if I wa...  2020-09-06   \n",
       "3  There s regular people and then there s {@Bail...  2020-09-06   \n",
       "4  Up with new grace, truly sorry on behalf of {@...  2020-09-06   \n",
       "\n",
       "                                              topics                   id  \n",
       "0           [film_tv_&_video, news_&_social_concern]  1301943102094139393  \n",
       "1       [diaries_&_daily_life, youth_&_student_life]  1302275052256342017  \n",
       "2           [film_tv_&_video, news_&_social_concern]  1302450647422259205  \n",
       "3                          [celebrity_&_pop_culture]  1302452496011595776  \n",
       "4  [celebrity_&_pop_culture, fitness_&_health, ne...  1302479114469867520  "
      ]
     },
     "execution_count": 286,
     "metadata": {},
     "output_type": "execute_result"
    }
   ],
   "source": [
    "# unpickle the data\n",
    "raw_data = load_pickle(RAW_DATA_PATH)\n",
    "raw_data.head()"
   ]
  },
  {
   "cell_type": "code",
   "execution_count": 287,
   "metadata": {},
   "outputs": [],
   "source": [
    "# drop the date and id columns\n",
    "# I dont think date and id are relevant to classify the topic, it will only bias the model\n",
    "# during inference date and id are going to be outside the distribution of the training data  \n",
    "df = raw_data.drop(columns=[\"date\", \"id\"])"
   ]
  },
  {
   "cell_type": "code",
   "execution_count": 288,
   "metadata": {},
   "outputs": [
    {
     "name": "stdout",
     "output_type": "stream",
     "text": [
      "['arts_&_culture' 'business_&_entrepreneurs' 'celebrity_&_pop_culture'\n",
      " 'diaries_&_daily_life' 'family' 'fashion_&_style' 'film_tv_&_video'\n",
      " 'fitness_&_health' 'food_&_dining' 'gaming' 'learning_&_educational'\n",
      " 'music' 'news_&_social_concern' 'other_hobbies' 'relationships'\n",
      " 'science_&_technology' 'sports' 'travel_&_adventure'\n",
      " 'youth_&_student_life'] there are 19 unique topics\n"
     ]
    }
   ],
   "source": [
    "# concatenate all topics lists into one list\n",
    "topics = [topic for topics in df.topics for topic in topics]\n",
    "# get unique topics\n",
    "unique_topics = np.unique(topics)\n",
    "print(unique_topics, f\"there are {len(unique_topics)} unique topics\")"
   ]
  },
  {
   "cell_type": "code",
   "execution_count": 289,
   "metadata": {},
   "outputs": [
    {
     "data": {
      "image/png": "[encoded data removed]",
      "text/plain": [
       "<Figure size 1000x500 with 1 Axes>"
      ]
     },
     "metadata": {},
     "output_type": "display_data"
    }
   ],
   "source": [
    "# get the number of samples for each topic and plot it \n",
    "topic_count = [len(df[df.topics.apply(lambda x: topic in x)]) for topic in unique_topics]\n",
    "plt.figure(figsize=(10, 5))\n",
    "sns.barplot(x=unique_topics, y=topic_count)\n",
    "plt.xlabel(\"Topic\")\n",
    "plt.ylabel(\"Number of samples\")\n",
    "plt.xticks(rotation=90)\n",
    "plt.title(\"Number of samples per topic\")\n",
    "plt.show()"
   ]
  },
  {
   "cell_type": "code",
   "execution_count": 324,
   "metadata": {},
   "outputs": [
    {
     "data": {
      "text/plain": [
       "[42,\n",
       " 80,\n",
       " 210,\n",
       " 135,\n",
       " 30,\n",
       " 33,\n",
       " 231,\n",
       " 44,\n",
       " 22,\n",
       " 56,\n",
       " 23,\n",
       " 362,\n",
       " 289,\n",
       " 70,\n",
       " 55,\n",
       " 65,\n",
       " 532,\n",
       " 14,\n",
       " 11]"
      ]
     },
     "execution_count": 324,
     "metadata": {},
     "output_type": "execute_result"
    }
   ],
   "source": [
    "topic_count"
   ]
  },
  {
   "cell_type": "code",
   "execution_count": 327,
   "metadata": {},
   "outputs": [],
   "source": [
    "# will be use for balancing the loss function\n",
    "weights = [1/t for t in topic_count]\n",
    "weights = [w/sum(weights) for w in weights]"
   ]
  },
  {
   "cell_type": "code",
   "execution_count": 308,
   "metadata": {},
   "outputs": [],
   "source": [
    "# one hot encode the topics column and store it in a list \n",
    "# this will be used to create the target column\n",
    "topics_one_hot = []\n",
    "for topics in df.topics:\n",
    "    one_hot = [1 if topic in topics else 0 for topic in unique_topics]\n",
    "    topics_one_hot.append(one_hot)\n",
    "# create the target column\n",
    "df[\"target\"] = topics_one_hot"
   ]
  },
  {
   "cell_type": "code",
   "execution_count": 309,
   "metadata": {},
   "outputs": [
    {
     "data": {
      "image/png": "[encoded data removed]",
      "text/plain": [
       "<Figure size 640x480 with 1 Axes>"
      ]
     },
     "metadata": {},
     "output_type": "display_data"
    }
   ],
   "source": [
    "# what is the distribution of the number of topics per sample\n",
    "sns.histplot(x=df.topics.apply(lambda x: len(x)))\n",
    "plt.xlabel(\"Number of topics\")\n",
    "plt.ylabel(\"Number of samples\")\n",
    "plt.title(\"Distribution of the number of topics per sample\")\n",
    "plt.show()"
   ]
  },
  {
   "cell_type": "code",
   "execution_count": null,
   "metadata": {},
   "outputs": [],
   "source": [
    "df.head()"
   ]
  },
  {
   "cell_type": "code",
   "execution_count": null,
   "metadata": {},
   "outputs": [],
   "source": [
    "# data cleaning \n",
    "# remove username and url from the text\n",
    "# remove emojis "
   ]
  },
  {
   "attachments": {},
   "cell_type": "markdown",
   "metadata": {},
   "source": [
    "> one idea would be to use pre-trained LLMs to embed each tweet, we would than use these embeddings to train a classifier (a feed-forward neural network, SVM). "
   ]
  },
  {
   "cell_type": "code",
   "execution_count": null,
   "metadata": {},
   "outputs": [],
   "source": [
    "# get the embedding for each sample\n",
    "embeddings = []\n",
    "for text in df.text:\n",
    "    try:\n",
    "        embeddings.append(get_embedding(text))\n",
    "    except:\n",
    "        print(\"error !\", \"total embedded samples:\", len(embeddings))\n",
    "        # save the embeddings so far\n",
    "        with open(f'../data/processed/{len(embeddings)}_embeddings.pkl', 'wb') as f:\n",
    "            pickle.dump(embeddings, f)\n",
    "        break"
   ]
  },
  {
   "cell_type": "code",
   "execution_count": null,
   "metadata": {},
   "outputs": [],
   "source": [
    "# check that the number of embeddings is equal to the number of samples\n",
    "assert len(embeddings) == len(df)\n",
    "# add the embeddings to the dataframe\n",
    "df[\"embedding\"] = embeddings\n",
    "## save the processed data\n",
    "save_pickle(df, PROCESSED_DATA_PATH)"
   ]
  },
  {
   "attachments": {},
   "cell_type": "markdown",
   "metadata": {},
   "source": [
    "## Modeling"
   ]
  },
  {
   "attachments": {},
   "cell_type": "markdown",
   "metadata": {},
   "source": [
    "task : mutli-label classification (One Vs RestClassifier), we train a classifier for each label\n",
    "\n",
    "experiment : Feedforward neural network on top of ada-002 embeddings"
   ]
  },
  {
   "cell_type": "code",
   "execution_count": 311,
   "metadata": {},
   "outputs": [],
   "source": [
    "from src.model import DivideAndConquerFNN\n",
    "from src.utils import split_data\n",
    "from src.train import train\n",
    "import torch\n",
    "from torch.utils.data import TensorDataset, DataLoader\n",
    "from tqdm import tqdm\n",
    "from sklearn.metrics import classification_report"
   ]
  },
  {
   "cell_type": "code",
   "execution_count": 331,
   "metadata": {},
   "outputs": [],
   "source": [
    "## load the processed data\n",
    "df = load_pickle(PROCESSED_DATA_PATH)\n",
    "x, y = df.embedding.to_list(), df.target.to_list()\n",
    "x, y = np.array(x, dtype=np.float32), np.array(y, dtype=np.float32)\n",
    "x_train, x_val, x_test, y_train, y_val, y_test = split_data(x, y, test_size=0.2, val_size=0.1)\n",
    "x_train, x_val, x_test, y_train, y_val, y_test = torch.tensor(x_train), torch.tensor(x_val), torch.tensor(x_test), torch.tensor(y_train), torch.tensor(y_val), torch.tensor(y_test)"
   ]
  },
  {
   "cell_type": "code",
   "execution_count": 313,
   "metadata": {},
   "outputs": [],
   "source": [
    "input_dim = len(x_train[0])\n",
    "hidden_dim = 16\n",
    "number_of_labels = len(unique_topics)\n",
    "classifier = DivideAndConquerFNN(input_dim, hidden_dim, number_of_labels)\n",
    "\n",
    "batch_size = 16\n",
    "num_epochs = 15\n",
    "\n",
    "train_dataset = TensorDataset(x_train, y_train)\n",
    "train_loader = DataLoader(train_dataset, batch_size=batch_size, shuffle=True)\n",
    "\n",
    "val_dataset = TensorDataset(x_val, y_val)\n",
    "val_loader = DataLoader(val_dataset, batch_size=batch_size, shuffle=True)\n",
    "\n",
    "learning_rate = 3e-4\n",
    "optimizer = torch.optim.Adam(classifier.parameters(), lr=learning_rate)\n",
    "criterion = torch.nn.BCELoss()\n",
    "\n",
    "device = torch.device(\"cuda:0\" if torch.cuda.is_available() else \"cpu\")"
   ]
  },
  {
   "cell_type": "code",
   "execution_count": null,
   "metadata": {},
   "outputs": [],
   "source": [
    "# train the classifier\n",
    "train(classifier, train_loader, val_loader, optimizer, criterion, weights, num_epochs, device)"
   ]
  },
  {
   "cell_type": "code",
   "execution_count": 333,
   "metadata": {},
   "outputs": [
    {
     "name": "stdout",
     "output_type": "stream",
     "text": [
      "              precision    recall  f1-score   support\n",
      "\n",
      "           0       0.00      0.00      0.00        33\n",
      "           1       0.00      0.00      0.00        59\n",
      "           2       0.00      0.00      0.00       146\n",
      "           3       0.00      0.00      0.00       100\n",
      "           4       0.00      0.00      0.00        16\n",
      "           5       0.00      0.00      0.00        26\n",
      "           6       0.00      0.00      0.00       163\n",
      "           7       0.00      0.00      0.00        29\n",
      "           8       0.00      0.00      0.00        16\n",
      "           9       0.00      0.00      0.00        46\n",
      "          10       0.00      0.00      0.00        15\n",
      "          11       0.96      0.91      0.93       258\n",
      "          12       0.95      0.43      0.60       200\n",
      "          13       0.00      0.00      0.00        44\n",
      "          14       0.00      0.00      0.00        36\n",
      "          15       0.00      0.00      0.00        42\n",
      "          16       0.98      0.99      0.98       391\n",
      "          17       0.00      0.00      0.00         8\n",
      "          18       0.00      0.00      0.00         8\n",
      "\n",
      "   micro avg       0.97      0.43      0.60      1636\n",
      "   macro avg       0.15      0.12      0.13      1636\n",
      "weighted avg       0.50      0.43      0.45      1636\n",
      " samples avg       0.65      0.52      0.56      1636\n",
      "\n"
     ]
    },
    {
     "name": "stderr",
     "output_type": "stream",
     "text": [
      "/home/hachem/miniconda3/envs/twitter-topic/lib/python3.10/site-packages/sklearn/metrics/_classification.py:1344: UndefinedMetricWarning: Precision and F-score are ill-defined and being set to 0.0 in labels with no predicted samples. Use `zero_division` parameter to control this behavior.\n",
      "  _warn_prf(average, modifier, msg_start, len(result))\n",
      "/home/hachem/miniconda3/envs/twitter-topic/lib/python3.10/site-packages/sklearn/metrics/_classification.py:1344: UndefinedMetricWarning: Precision and F-score are ill-defined and being set to 0.0 in samples with no predicted labels. Use `zero_division` parameter to control this behavior.\n",
      "  _warn_prf(average, modifier, msg_start, len(result))\n"
     ]
    }
   ],
   "source": [
    "y_pred = [[pred.item() for pred in res] for res in classifier(x_train)]\n",
    "y_pred = (np.array(y_pred)>0.5).astype(int).T\n",
    "y_truth = np.array(y_train)\n",
    "\n",
    "print(classification_report(y_truth, y_pred))"
   ]
  },
  {
   "attachments": {},
   "cell_type": "markdown",
   "metadata": {},
   "source": [
    "> even with the weighted loss its not working "
   ]
  },
  {
   "attachments": {},
   "cell_type": "markdown",
   "metadata": {},
   "source": [
    "Task : few-shot learning\n",
    "\n",
    "Experiment : GPT-3"
   ]
  },
  {
   "cell_type": "code",
   "execution_count": 118,
   "metadata": {},
   "outputs": [],
   "source": [
    "from src.model import GPT_3"
   ]
  },
  {
   "cell_type": "code",
   "execution_count": 348,
   "metadata": {},
   "outputs": [
    {
     "data": {
      "text/plain": [
       "\"    'business_&_entrepreneurs',\\n    'sports'\\n\""
      ]
     },
     "execution_count": 348,
     "metadata": {},
     "output_type": "execute_result"
    }
   ],
   "source": [
    "prompt = lambda text : f\"\"\"\n",
    "classify tweets to their topics, available topics are: ['arts_&_culture' 'business_&_entrepreneurs' 'celebrity_&_pop_culture'\n",
    " 'diaries_&_daily_life' 'family' 'fashion_&_style' 'film_tv_&_video'\n",
    " 'fitness_&_health' 'food_&_dining' 'gaming' 'learning_&_educational'\n",
    " 'music' 'news_&_social_concern' 'other_hobbies' 'relationships'\n",
    " 'science_&_technology' 'sports' 'travel_&_adventure'\n",
    " 'youth_&_student_life']\n",
    "tweet : Barbara Bailey is the queen of broadcast news in central & eastern Kentucky  After growing up watching her anchor the news, it was a great honor to call her coworker & friend. I loved saying “back to you, Barb” while reporting.  Cheers, {{USERNAME}} {{URL}} \n",
    "topics : ['film_tv_&_video','news_&_social_concern']\n",
    "tweet : Saints defense was dinged for 4 missed tackles in Week 1, tying the Texans and Colts for the 6th fewest in the NFL  Saints defense credited with 8 pressures (3 sacks), a pressure rate of 20%. Ties Rams for 14th worst in Week 1  per ProFootballReference\n",
    "topics : ['sports']\n",
    "tweet : {text}\n",
    "topics : [\n",
    "\"\"\"\n",
    "GPT_3(prompt(df.text[300]))"
   ]
  },
  {
   "cell_type": "code",
   "execution_count": 349,
   "metadata": {},
   "outputs": [
    {
     "data": {
      "text/plain": [
       "array(['sports'], dtype=object)"
      ]
     },
     "execution_count": 349,
     "metadata": {},
     "output_type": "execute_result"
    }
   ],
   "source": [
    "df.topics[300]"
   ]
  },
  {
   "attachments": {},
   "cell_type": "markdown",
   "metadata": {},
   "source": [
    "Task : text generation\n",
    "\n",
    "Experiment : fine-tuning GPT-3 "
   ]
  },
  {
   "cell_type": "code",
   "execution_count": null,
   "metadata": {},
   "outputs": [],
   "source": []
  }
 ],
 "metadata": {
  "kernelspec": {
   "display_name": "twitter-topic",
   "language": "python",
   "name": "python3"
  },
  "language_info": {
   "codemirror_mode": {
    "name": "ipython",
    "version": 3
   },
   "file_extension": ".py",
   "mimetype": "text/x-python",
   "name": "python",
   "nbconvert_exporter": "python",
   "pygments_lexer": "ipython3",
   "version": "3.10.9"
  },
  "orig_nbformat": 4
 },
 "nbformat": 4,
 "nbformat_minor": 2
}
